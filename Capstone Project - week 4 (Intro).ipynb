{
    "cells": [
        {
            "cell_type": "markdown",
            "metadata": {
                "collapsed": true
            },
            "source": " <h2>Introduction/Business Problem<h2>\n   "
        },
        {
            "cell_type": "markdown",
            "metadata": {},
            "source": "<h3>A description of the problem and a discussion of the background.</h3>"
        },
        {
            "cell_type": "markdown",
            "metadata": {},
            "source": "I want open a business in Toronto or in New York.\n\nBefore I understand all the neighborhoods, after i use Foursquare.\n\nWhen I use Foursquare I search all the business on the city and I can make the analysis of the business in the cities.\n\nAfter when i find the most popular type of business i know what i can open.\n"
        },
        {
            "cell_type": "markdown",
            "metadata": {},
            "source": "<h3>A description of the data and how it will be used to solve the problem.</h3>"
        },
        {
            "cell_type": "markdown",
            "metadata": {},
            "source": "The date are provided from Foursquare API.\n\nFirst i use the Code for see the neighboorhoods.\n\nAfter i use the source.\n\nI use pandas for the use of data and folium for the graph.\n\nWith those data i can find the best business to open.\n\nSorry for the english"
        },
        {
            "cell_type": "code",
            "execution_count": null,
            "metadata": {},
            "outputs": [],
            "source": ""
        }
    ],
    "metadata": {
        "kernelspec": {
            "display_name": "Python 3.6",
            "language": "python",
            "name": "python3"
        },
        "language_info": {
            "codemirror_mode": {
                "name": "ipython",
                "version": 3
            },
            "file_extension": ".py",
            "mimetype": "text/x-python",
            "name": "python",
            "nbconvert_exporter": "python",
            "pygments_lexer": "ipython3",
            "version": "3.6.9"
        }
    },
    "nbformat": 4,
    "nbformat_minor": 1
}